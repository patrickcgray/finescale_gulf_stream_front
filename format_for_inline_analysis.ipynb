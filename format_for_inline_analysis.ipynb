{
 "cells": [
  {
   "cell_type": "markdown",
   "id": "fb0c5c01-49de-4321-a69d-6643c10c49b8",
   "metadata": {},
   "source": [
    "### Convert TSG and Flow Meter Data to Correct Format for Inline Analysis"
   ]
  },
  {
   "cell_type": "code",
   "execution_count": null,
   "id": "e0347e6a-b7d9-4652-9590-30cc3ead17aa",
   "metadata": {},
   "outputs": [],
   "source": [
    "TSG format is\n",
    "\n",
    "lat=43 47.66737 N, lon=069 57.81890 W, hms=122029, dmy=040821, t1=18.254000, c1=4.118110, s=30.812400, sigma=22.007600"
   ]
  },
  {
   "cell_type": "markdown",
   "id": "3a7d10d5-9515-4149-955c-04c57bb84bf4",
   "metadata": {},
   "source": [
    "My TSG data is formatted as :\n",
    "09/04/2021,22:57:51.709,        26.5469        36.0464      1539.56\n",
    "\n",
    "    \n",
    "My GPS data is:\n",
    "09/04/2021,22:23:40.089,$GPZDA,222709.67,04,09,2021,00,00*67\n"
   ]
  },
  {
   "cell_type": "markdown",
   "id": "92e7b270-62d0-4afd-85eb-f18e079dda38",
   "metadata": {},
   "source": [
    "#### Convert to proper format"
   ]
  },
  {
   "cell_type": "code",
   "execution_count": 65,
   "id": "2928ba8c-8655-4cc5-8a68-4a8e8311dec9",
   "metadata": {},
   "outputs": [
    {
     "name": "stderr",
     "output_type": "stream",
     "text": [
      "<ipython-input-65-12db4bb59c4b>:3: ParserWarning: Falling back to the 'python' engine because the 'c' engine does not support regex separators (separators > 1 char and different from '\\s+' are interpreted as regex); you can avoid this warning by specifying engine='python'.\n",
      "  tsg_original = pd.read_csv('data/SW21011R_RFP/TSG/TSG-_20210904-222337.Raw', sep='        |,|      ', header=None, names=['date', 'time', 'delete', 'T', 'S', 'unknown'])\n"
     ]
    }
   ],
   "source": [
    "import pandas as pd\n",
    "\n",
    "tsg_original = pd.read_csv('data/SW21011R_RFP/TSG/TSG-_20210904-222337.Raw', sep='        |,|      ', header=None, names=['date', 'time', 'delete', 'T', 'S', 'unknown'])\n",
    "\n",
    "gps_original = pd.read_csv('data/SW21011R_RFP/Navigation/SW-GGA_20210904-222337.Raw', header=None,\n",
    "                           names=['date', 'time', 'gps', 'unknown', 'latdms', 'lat_sign', 'londms', 'lon_sign', '1', '2', '3', '4', '5', '6', '7'])"
   ]
  },
  {
   "cell_type": "code",
   "execution_count": 66,
   "id": "20da5a80-1aa5-4fe2-b5ac-1b07125e9a9b",
   "metadata": {},
   "outputs": [],
   "source": [
    "tsg_original['datetime'] = pd.to_datetime(tsg_original['date'] + ' ' + tsg_original['time'])"
   ]
  },
  {
   "cell_type": "code",
   "execution_count": 67,
   "id": "7cacb01d-197a-4005-b6a6-7ffd31c3490a",
   "metadata": {},
   "outputs": [],
   "source": [
    "tsg_original = tsg_original.set_index('datetime')"
   ]
  },
  {
   "cell_type": "code",
   "execution_count": 68,
   "id": "9d9710ac-7746-4823-a9c8-72f7b82ec4b0",
   "metadata": {},
   "outputs": [],
   "source": [
    "tsg_original['datetime'] = pd.to_datetime(tsg_original['date'] + ' ' + tsg_original['time'])"
   ]
  },
  {
   "cell_type": "code",
   "execution_count": 69,
   "id": "d7ddd4ca-c25c-4e70-8bfd-e83be0e528e4",
   "metadata": {},
   "outputs": [
    {
     "data": {
      "text/html": [
       "<div>\n",
       "<style scoped>\n",
       "    .dataframe tbody tr th:only-of-type {\n",
       "        vertical-align: middle;\n",
       "    }\n",
       "\n",
       "    .dataframe tbody tr th {\n",
       "        vertical-align: top;\n",
       "    }\n",
       "\n",
       "    .dataframe thead th {\n",
       "        text-align: right;\n",
       "    }\n",
       "</style>\n",
       "<table border=\"1\" class=\"dataframe\">\n",
       "  <thead>\n",
       "    <tr style=\"text-align: right;\">\n",
       "      <th></th>\n",
       "      <th>date</th>\n",
       "      <th>time</th>\n",
       "      <th>delete</th>\n",
       "      <th>T</th>\n",
       "      <th>S</th>\n",
       "      <th>unknown</th>\n",
       "      <th>datetime</th>\n",
       "    </tr>\n",
       "    <tr>\n",
       "      <th>datetime</th>\n",
       "      <th></th>\n",
       "      <th></th>\n",
       "      <th></th>\n",
       "      <th></th>\n",
       "      <th></th>\n",
       "      <th></th>\n",
       "      <th></th>\n",
       "    </tr>\n",
       "  </thead>\n",
       "  <tbody>\n",
       "    <tr>\n",
       "      <th>2021-09-04 22:57:51.709</th>\n",
       "      <td>09/04/2021</td>\n",
       "      <td>22:57:51.709</td>\n",
       "      <td>NaN</td>\n",
       "      <td>26.5469</td>\n",
       "      <td>36.0464</td>\n",
       "      <td>1539.56</td>\n",
       "      <td>2021-09-04 22:57:51.709</td>\n",
       "    </tr>\n",
       "    <tr>\n",
       "      <th>2021-09-04 22:58:01.635</th>\n",
       "      <td>09/04/2021</td>\n",
       "      <td>22:58:01.635</td>\n",
       "      <td>NaN</td>\n",
       "      <td>26.5226</td>\n",
       "      <td>36.0374</td>\n",
       "      <td>1539.49</td>\n",
       "      <td>2021-09-04 22:58:01.635</td>\n",
       "    </tr>\n",
       "    <tr>\n",
       "      <th>2021-09-04 22:58:11.623</th>\n",
       "      <td>09/04/2021</td>\n",
       "      <td>22:58:11.623</td>\n",
       "      <td>NaN</td>\n",
       "      <td>26.4849</td>\n",
       "      <td>36.0074</td>\n",
       "      <td>1539.38</td>\n",
       "      <td>2021-09-04 22:58:11.623</td>\n",
       "    </tr>\n",
       "    <tr>\n",
       "      <th>2021-09-04 22:58:21.627</th>\n",
       "      <td>09/04/2021</td>\n",
       "      <td>22:58:21.627</td>\n",
       "      <td>NaN</td>\n",
       "      <td>26.4642</td>\n",
       "      <td>35.9757</td>\n",
       "      <td>1539.30</td>\n",
       "      <td>2021-09-04 22:58:21.627</td>\n",
       "    </tr>\n",
       "    <tr>\n",
       "      <th>2021-09-04 22:58:31.627</th>\n",
       "      <td>09/04/2021</td>\n",
       "      <td>22:58:31.627</td>\n",
       "      <td>NaN</td>\n",
       "      <td>26.4588</td>\n",
       "      <td>35.9478</td>\n",
       "      <td>1539.25</td>\n",
       "      <td>2021-09-04 22:58:31.627</td>\n",
       "    </tr>\n",
       "    <tr>\n",
       "      <th>...</th>\n",
       "      <td>...</td>\n",
       "      <td>...</td>\n",
       "      <td>...</td>\n",
       "      <td>...</td>\n",
       "      <td>...</td>\n",
       "      <td>...</td>\n",
       "      <td>...</td>\n",
       "    </tr>\n",
       "    <tr>\n",
       "      <th>2021-09-09 12:00:14.732</th>\n",
       "      <td>09/09/2021</td>\n",
       "      <td>12:00:14.732</td>\n",
       "      <td>NaN</td>\n",
       "      <td>27.4096</td>\n",
       "      <td>35.8314</td>\n",
       "      <td>1541.24</td>\n",
       "      <td>2021-09-09 12:00:14.732</td>\n",
       "    </tr>\n",
       "    <tr>\n",
       "      <th>2021-09-09 12:00:24.733</th>\n",
       "      <td>09/09/2021</td>\n",
       "      <td>12:00:24.733</td>\n",
       "      <td>NaN</td>\n",
       "      <td>27.4104</td>\n",
       "      <td>35.8320</td>\n",
       "      <td>1541.24</td>\n",
       "      <td>2021-09-09 12:00:24.733</td>\n",
       "    </tr>\n",
       "    <tr>\n",
       "      <th>2021-09-09 12:00:34.724</th>\n",
       "      <td>09/09/2021</td>\n",
       "      <td>12:00:34.724</td>\n",
       "      <td>NaN</td>\n",
       "      <td>27.4130</td>\n",
       "      <td>35.8316</td>\n",
       "      <td>1541.24</td>\n",
       "      <td>2021-09-09 12:00:34.724</td>\n",
       "    </tr>\n",
       "    <tr>\n",
       "      <th>2021-09-09 12:00:44.717</th>\n",
       "      <td>09/09/2021</td>\n",
       "      <td>12:00:44.717</td>\n",
       "      <td>NaN</td>\n",
       "      <td>27.4145</td>\n",
       "      <td>35.8318</td>\n",
       "      <td>1541.25</td>\n",
       "      <td>2021-09-09 12:00:44.717</td>\n",
       "    </tr>\n",
       "    <tr>\n",
       "      <th>2021-09-09 12:00:54.723</th>\n",
       "      <td>09/09/2021</td>\n",
       "      <td>12:00:54.723</td>\n",
       "      <td>NaN</td>\n",
       "      <td>27.4163</td>\n",
       "      <td>35.8325</td>\n",
       "      <td>1541.25</td>\n",
       "      <td>2021-09-09 12:00:54.723</td>\n",
       "    </tr>\n",
       "  </tbody>\n",
       "</table>\n",
       "<p>39259 rows × 7 columns</p>\n",
       "</div>"
      ],
      "text/plain": [
       "                               date          time  delete        T        S  \\\n",
       "datetime                                                                      \n",
       "2021-09-04 22:57:51.709  09/04/2021  22:57:51.709     NaN  26.5469  36.0464   \n",
       "2021-09-04 22:58:01.635  09/04/2021  22:58:01.635     NaN  26.5226  36.0374   \n",
       "2021-09-04 22:58:11.623  09/04/2021  22:58:11.623     NaN  26.4849  36.0074   \n",
       "2021-09-04 22:58:21.627  09/04/2021  22:58:21.627     NaN  26.4642  35.9757   \n",
       "2021-09-04 22:58:31.627  09/04/2021  22:58:31.627     NaN  26.4588  35.9478   \n",
       "...                             ...           ...     ...      ...      ...   \n",
       "2021-09-09 12:00:14.732  09/09/2021  12:00:14.732     NaN  27.4096  35.8314   \n",
       "2021-09-09 12:00:24.733  09/09/2021  12:00:24.733     NaN  27.4104  35.8320   \n",
       "2021-09-09 12:00:34.724  09/09/2021  12:00:34.724     NaN  27.4130  35.8316   \n",
       "2021-09-09 12:00:44.717  09/09/2021  12:00:44.717     NaN  27.4145  35.8318   \n",
       "2021-09-09 12:00:54.723  09/09/2021  12:00:54.723     NaN  27.4163  35.8325   \n",
       "\n",
       "                         unknown                datetime  \n",
       "datetime                                                  \n",
       "2021-09-04 22:57:51.709  1539.56 2021-09-04 22:57:51.709  \n",
       "2021-09-04 22:58:01.635  1539.49 2021-09-04 22:58:01.635  \n",
       "2021-09-04 22:58:11.623  1539.38 2021-09-04 22:58:11.623  \n",
       "2021-09-04 22:58:21.627  1539.30 2021-09-04 22:58:21.627  \n",
       "2021-09-04 22:58:31.627  1539.25 2021-09-04 22:58:31.627  \n",
       "...                          ...                     ...  \n",
       "2021-09-09 12:00:14.732  1541.24 2021-09-09 12:00:14.732  \n",
       "2021-09-09 12:00:24.733  1541.24 2021-09-09 12:00:24.733  \n",
       "2021-09-09 12:00:34.724  1541.24 2021-09-09 12:00:34.724  \n",
       "2021-09-09 12:00:44.717  1541.25 2021-09-09 12:00:44.717  \n",
       "2021-09-09 12:00:54.723  1541.25 2021-09-09 12:00:54.723  \n",
       "\n",
       "[39259 rows x 7 columns]"
      ]
     },
     "execution_count": 69,
     "metadata": {},
     "output_type": "execute_result"
    }
   ],
   "source": [
    "tsg_original"
   ]
  },
  {
   "cell_type": "code",
   "execution_count": 70,
   "id": "b7c0639f-6cba-4201-b1f5-1d592e436574",
   "metadata": {},
   "outputs": [],
   "source": [
    "gps_original['datetime'] = pd.to_datetime(gps_original['date'] + ' ' + gps_original['time'])"
   ]
  },
  {
   "cell_type": "code",
   "execution_count": 71,
   "id": "9cc615cf-60e6-4e23-a1e8-e932a79942c5",
   "metadata": {},
   "outputs": [],
   "source": [
    "gps_original = gps_original.set_index('datetime')"
   ]
  },
  {
   "cell_type": "code",
   "execution_count": 72,
   "id": "78464483-4909-4ffc-bba1-4c7b20e584d2",
   "metadata": {},
   "outputs": [],
   "source": [
    "indices = []\n",
    "for i in range(len(tsg_original)):\n",
    "    indices.append(gps_original.index.get_loc(tsg_original.iloc[i].datetime, method='nearest'))"
   ]
  },
  {
   "cell_type": "code",
   "execution_count": 73,
   "id": "7d3759b4-454a-454a-a707-f3deb45ebb76",
   "metadata": {},
   "outputs": [],
   "source": [
    "gps_subset = gps_original.iloc[indices]"
   ]
  },
  {
   "cell_type": "code",
   "execution_count": 74,
   "id": "356d29aa-4dfa-4f22-b1b9-8ac0788c46d0",
   "metadata": {},
   "outputs": [
    {
     "name": "stderr",
     "output_type": "stream",
     "text": [
      "<ipython-input-74-9342abf7a88e>:9: SettingWithCopyWarning: \n",
      "A value is trying to be set on a copy of a slice from a DataFrame.\n",
      "Try using .loc[row_indexer,col_indexer] = value instead\n",
      "\n",
      "See the caveats in the documentation: https://pandas.pydata.org/pandas-docs/stable/user_guide/indexing.html#returning-a-view-versus-a-copy\n",
      "  gps_subset['lon'] = dms2dd(pd.to_numeric(gps_subset['londms'].astype(str).str[:2]).astype(float), pd.to_numeric(gps_subset['londms'].astype(str).str[2:]),np.array(0), 'W')\n",
      "<ipython-input-74-9342abf7a88e>:10: SettingWithCopyWarning: \n",
      "A value is trying to be set on a copy of a slice from a DataFrame.\n",
      "Try using .loc[row_indexer,col_indexer] = value instead\n",
      "\n",
      "See the caveats in the documentation: https://pandas.pydata.org/pandas-docs/stable/user_guide/indexing.html#returning-a-view-versus-a-copy\n",
      "  gps_subset['lat'] = dms2dd(pd.to_numeric(gps_subset['latdms'].astype(str).str[:2]).astype(float), pd.to_numeric(gps_subset['latdms'].astype(str).str[2:]),np.array(0), 'E')\n"
     ]
    }
   ],
   "source": [
    "import numpy as np\n",
    "\n",
    "def dms2dd(degrees, minutes, seconds, direction):\n",
    "    dd = degrees + minutes/60 + seconds/(60*60);\n",
    "    if direction == 'W' or direction == 'S':\n",
    "        dd *= -1\n",
    "    return dd;\n",
    "\n",
    "gps_subset['lon'] = dms2dd(pd.to_numeric(gps_subset['londms'].astype(str).str[:2]).astype(float), pd.to_numeric(gps_subset['londms'].astype(str).str[2:]),np.array(0), 'W')\n",
    "gps_subset['lat'] = dms2dd(pd.to_numeric(gps_subset['latdms'].astype(str).str[:2]).astype(float), pd.to_numeric(gps_subset['latdms'].astype(str).str[2:]),np.array(0), 'E')"
   ]
  },
  {
   "cell_type": "code",
   "execution_count": 75,
   "id": "e7c4cae6-5cb4-4934-ae45-4c9faff1909c",
   "metadata": {},
   "outputs": [
    {
     "data": {
      "text/html": [
       "<div>\n",
       "<style scoped>\n",
       "    .dataframe tbody tr th:only-of-type {\n",
       "        vertical-align: middle;\n",
       "    }\n",
       "\n",
       "    .dataframe tbody tr th {\n",
       "        vertical-align: top;\n",
       "    }\n",
       "\n",
       "    .dataframe thead th {\n",
       "        text-align: right;\n",
       "    }\n",
       "</style>\n",
       "<table border=\"1\" class=\"dataframe\">\n",
       "  <thead>\n",
       "    <tr style=\"text-align: right;\">\n",
       "      <th></th>\n",
       "      <th>date</th>\n",
       "      <th>time</th>\n",
       "      <th>gps</th>\n",
       "      <th>unknown</th>\n",
       "      <th>latdms</th>\n",
       "      <th>lat_sign</th>\n",
       "      <th>londms</th>\n",
       "      <th>lon_sign</th>\n",
       "      <th>1</th>\n",
       "      <th>2</th>\n",
       "      <th>3</th>\n",
       "      <th>4</th>\n",
       "      <th>5</th>\n",
       "      <th>6</th>\n",
       "      <th>7</th>\n",
       "      <th>lon</th>\n",
       "      <th>lat</th>\n",
       "    </tr>\n",
       "    <tr>\n",
       "      <th>datetime</th>\n",
       "      <th></th>\n",
       "      <th></th>\n",
       "      <th></th>\n",
       "      <th></th>\n",
       "      <th></th>\n",
       "      <th></th>\n",
       "      <th></th>\n",
       "      <th></th>\n",
       "      <th></th>\n",
       "      <th></th>\n",
       "      <th></th>\n",
       "      <th></th>\n",
       "      <th></th>\n",
       "      <th></th>\n",
       "      <th></th>\n",
       "      <th></th>\n",
       "      <th></th>\n",
       "    </tr>\n",
       "  </thead>\n",
       "  <tbody>\n",
       "    <tr>\n",
       "      <th>2021-09-04 22:57:51.969</th>\n",
       "      <td>09/04/2021</td>\n",
       "      <td>22:57:51.969</td>\n",
       "      <td>$GPGGA</td>\n",
       "      <td>230114.00</td>\n",
       "      <td>3438.1081</td>\n",
       "      <td>N</td>\n",
       "      <td>7639.5340</td>\n",
       "      <td>W</td>\n",
       "      <td>2</td>\n",
       "      <td>28</td>\n",
       "      <td>0.5</td>\n",
       "      <td>-27.0</td>\n",
       "      <td>M</td>\n",
       "      <td>-36.9</td>\n",
       "      <td>M*73</td>\n",
       "      <td>-76.658900</td>\n",
       "      <td>34.635135</td>\n",
       "    </tr>\n",
       "    <tr>\n",
       "      <th>2021-09-04 22:58:01.949</th>\n",
       "      <td>09/04/2021</td>\n",
       "      <td>22:58:01.949</td>\n",
       "      <td>$GPGGA</td>\n",
       "      <td>230123.68</td>\n",
       "      <td>3438.0566</td>\n",
       "      <td>N</td>\n",
       "      <td>7639.5045</td>\n",
       "      <td>W</td>\n",
       "      <td>2</td>\n",
       "      <td>28</td>\n",
       "      <td>0.5</td>\n",
       "      <td>-26.4</td>\n",
       "      <td>M</td>\n",
       "      <td>-36.9</td>\n",
       "      <td>M*47</td>\n",
       "      <td>-76.658408</td>\n",
       "      <td>34.634277</td>\n",
       "    </tr>\n",
       "    <tr>\n",
       "      <th>2021-09-04 22:58:12.102</th>\n",
       "      <td>09/04/2021</td>\n",
       "      <td>22:58:12.102</td>\n",
       "      <td>$GPGGA</td>\n",
       "      <td>230133.68</td>\n",
       "      <td>3438.0046</td>\n",
       "      <td>N</td>\n",
       "      <td>7639.4760</td>\n",
       "      <td>W</td>\n",
       "      <td>2</td>\n",
       "      <td>28</td>\n",
       "      <td>0.5</td>\n",
       "      <td>-26.6</td>\n",
       "      <td>M</td>\n",
       "      <td>-36.9</td>\n",
       "      <td>M*42</td>\n",
       "      <td>-76.657933</td>\n",
       "      <td>34.633410</td>\n",
       "    </tr>\n",
       "    <tr>\n",
       "      <th>2021-09-04 22:58:21.706</th>\n",
       "      <td>09/04/2021</td>\n",
       "      <td>22:58:21.706</td>\n",
       "      <td>$GPGGA</td>\n",
       "      <td>230143.69</td>\n",
       "      <td>3437.9533</td>\n",
       "      <td>N</td>\n",
       "      <td>7639.4463</td>\n",
       "      <td>W</td>\n",
       "      <td>2</td>\n",
       "      <td>27</td>\n",
       "      <td>0.5</td>\n",
       "      <td>-27.2</td>\n",
       "      <td>M</td>\n",
       "      <td>-36.9</td>\n",
       "      <td>M*4F</td>\n",
       "      <td>-76.657438</td>\n",
       "      <td>34.632555</td>\n",
       "    </tr>\n",
       "    <tr>\n",
       "      <th>2021-09-04 22:58:31.002</th>\n",
       "      <td>09/04/2021</td>\n",
       "      <td>22:58:31.002</td>\n",
       "      <td>$GPGGA</td>\n",
       "      <td>230152.69</td>\n",
       "      <td>3437.9070</td>\n",
       "      <td>N</td>\n",
       "      <td>7639.4200</td>\n",
       "      <td>W</td>\n",
       "      <td>2</td>\n",
       "      <td>27</td>\n",
       "      <td>0.5</td>\n",
       "      <td>-27.0</td>\n",
       "      <td>M</td>\n",
       "      <td>-36.9</td>\n",
       "      <td>M*52</td>\n",
       "      <td>-76.657000</td>\n",
       "      <td>34.631783</td>\n",
       "    </tr>\n",
       "  </tbody>\n",
       "</table>\n",
       "</div>"
      ],
      "text/plain": [
       "                               date          time     gps    unknown  \\\n",
       "datetime                                                               \n",
       "2021-09-04 22:57:51.969  09/04/2021  22:57:51.969  $GPGGA  230114.00   \n",
       "2021-09-04 22:58:01.949  09/04/2021  22:58:01.949  $GPGGA  230123.68   \n",
       "2021-09-04 22:58:12.102  09/04/2021  22:58:12.102  $GPGGA  230133.68   \n",
       "2021-09-04 22:58:21.706  09/04/2021  22:58:21.706  $GPGGA  230143.69   \n",
       "2021-09-04 22:58:31.002  09/04/2021  22:58:31.002  $GPGGA  230152.69   \n",
       "\n",
       "                            latdms lat_sign     londms lon_sign  1   2    3  \\\n",
       "datetime                                                                      \n",
       "2021-09-04 22:57:51.969  3438.1081        N  7639.5340        W  2  28  0.5   \n",
       "2021-09-04 22:58:01.949  3438.0566        N  7639.5045        W  2  28  0.5   \n",
       "2021-09-04 22:58:12.102  3438.0046        N  7639.4760        W  2  28  0.5   \n",
       "2021-09-04 22:58:21.706  3437.9533        N  7639.4463        W  2  27  0.5   \n",
       "2021-09-04 22:58:31.002  3437.9070        N  7639.4200        W  2  27  0.5   \n",
       "\n",
       "                            4  5     6     7        lon        lat  \n",
       "datetime                                                            \n",
       "2021-09-04 22:57:51.969 -27.0  M -36.9  M*73 -76.658900  34.635135  \n",
       "2021-09-04 22:58:01.949 -26.4  M -36.9  M*47 -76.658408  34.634277  \n",
       "2021-09-04 22:58:12.102 -26.6  M -36.9  M*42 -76.657933  34.633410  \n",
       "2021-09-04 22:58:21.706 -27.2  M -36.9  M*4F -76.657438  34.632555  \n",
       "2021-09-04 22:58:31.002 -27.0  M -36.9  M*52 -76.657000  34.631783  "
      ]
     },
     "execution_count": 75,
     "metadata": {},
     "output_type": "execute_result"
    }
   ],
   "source": [
    "gps_subset.head()"
   ]
  },
  {
   "cell_type": "code",
   "execution_count": 76,
   "id": "803f6f37-418a-415c-94e5-caecb7318f81",
   "metadata": {},
   "outputs": [],
   "source": [
    "tsg_original['latdms'] = gps_subset['latdms'].values\n",
    "tsg_original['londms'] = gps_subset['londms'].values"
   ]
  },
  {
   "cell_type": "code",
   "execution_count": null,
   "id": "99d52c84-ea4a-4ed9-9515-2e542fbbcd33",
   "metadata": {},
   "outputs": [],
   "source": [
    "lat=43 47.66737 N, lon=069 57.81890 W, hms=122029, dmy=040821, t1=18.254000, c1=4.118110, s=30.812400, sigma=22.007600"
   ]
  },
  {
   "cell_type": "code",
   "execution_count": 105,
   "id": "ab159ab8-c549-4434-a1e8-f049c95fc06a",
   "metadata": {},
   "outputs": [
    {
     "data": {
      "text/plain": [
       "'225801'"
      ]
     },
     "execution_count": 105,
     "metadata": {},
     "output_type": "execute_result"
    }
   ],
   "source": [
    "tsg_original.iloc[1].datetime.strftime('%H%M%S') # %d/%m/%y"
   ]
  },
  {
   "cell_type": "code",
   "execution_count": 113,
   "id": "2e8780c1-5295-4369-ab9a-884ecc62f235",
   "metadata": {},
   "outputs": [
    {
     "data": {
      "text/plain": [
       "'040921'"
      ]
     },
     "execution_count": 113,
     "metadata": {},
     "output_type": "execute_result"
    }
   ],
   "source": [
    "row.datetime.strftime('%d%m%y')"
   ]
  },
  {
   "cell_type": "code",
   "execution_count": 115,
   "id": "c4240778-a2ce-4547-a2f1-50e33838812c",
   "metadata": {},
   "outputs": [
    {
     "data": {
      "text/plain": [
       "26.5469"
      ]
     },
     "execution_count": 115,
     "metadata": {},
     "output_type": "execute_result"
    }
   ],
   "source": [
    "row['T']"
   ]
  },
  {
   "cell_type": "code",
   "execution_count": 122,
   "id": "21e08abe-c090-473f-86ea-79ef3bf6b1bc",
   "metadata": {},
   "outputs": [],
   "source": [
    "f = open('tsg_20210904.txt', 'w')\n",
    "i=0\n",
    "for index, row in tsg_original.iterrows():\n",
    "    if i > len(tsg_original):\n",
    "        break\n",
    "    else:\n",
    "        f.write('lat='+str(row['latdms'])[:2]+' '+str(row['latdms'])[2:]+' N, ')\n",
    "        f.write('lon=0'+str(row['latdms'])[:2]+' '+str(row['latdms'])[2:]+' W, ')\n",
    "        f.write('hms='+row.datetime.strftime('%H%M%S')+', ')\n",
    "        f.write('dmy='+row.datetime.strftime('%d%m%y')+', ')\n",
    "        f.write('t1='+str(row['T'])+', ')\n",
    "        f.write('c1=0, ')\n",
    "        f.write('s='+str(row['S'])+', ')\n",
    "        f.write('sigma=0\\n')\n",
    "        i+=1\n",
    "f.close()"
   ]
  },
  {
   "cell_type": "markdown",
   "id": "00bf3e6e-00c4-4259-b5e6-2f98d04326c3",
   "metadata": {},
   "source": [
    "### Converting flow control to proper format"
   ]
  },
  {
   "cell_type": "markdown",
   "id": "dc20cd15-309d-4576-b686-c98796807e94",
   "metadata": {},
   "source": [
    "proper format is \n",
    "2021-08-04 19:00:01 UTC\t1\t0110\t0.00\t43.48\t0.000\t2.469\n",
    "        \n",
    "my format is\n",
    "09/04/2021,22:23:38.407,$FLOW,0,mL/s"
   ]
  },
  {
   "cell_type": "code",
   "execution_count": 127,
   "id": "af175462-37b5-4793-b263-92d0bf2694bf",
   "metadata": {},
   "outputs": [],
   "source": [
    "flow_df = pd.read_csv('data/SW21011R_RFP/TSG/FlowMeter-_20210904-222337.Raw', header=None, names=['date', 'time', 'flowname', 'flow', 'units'])"
   ]
  },
  {
   "cell_type": "code",
   "execution_count": 128,
   "id": "36c5170f-25ad-40f1-a62b-61a2f09147c1",
   "metadata": {},
   "outputs": [
    {
     "data": {
      "text/html": [
       "<div>\n",
       "<style scoped>\n",
       "    .dataframe tbody tr th:only-of-type {\n",
       "        vertical-align: middle;\n",
       "    }\n",
       "\n",
       "    .dataframe tbody tr th {\n",
       "        vertical-align: top;\n",
       "    }\n",
       "\n",
       "    .dataframe thead th {\n",
       "        text-align: right;\n",
       "    }\n",
       "</style>\n",
       "<table border=\"1\" class=\"dataframe\">\n",
       "  <thead>\n",
       "    <tr style=\"text-align: right;\">\n",
       "      <th></th>\n",
       "      <th>date</th>\n",
       "      <th>time</th>\n",
       "      <th>flowname</th>\n",
       "      <th>flow</th>\n",
       "      <th>units</th>\n",
       "    </tr>\n",
       "  </thead>\n",
       "  <tbody>\n",
       "    <tr>\n",
       "      <th>0</th>\n",
       "      <td>09/04/2021</td>\n",
       "      <td>22:23:38.407</td>\n",
       "      <td>$FLOW</td>\n",
       "      <td>0.0</td>\n",
       "      <td>mL/s</td>\n",
       "    </tr>\n",
       "    <tr>\n",
       "      <th>1</th>\n",
       "      <td>09/04/2021</td>\n",
       "      <td>22:23:39.415</td>\n",
       "      <td>$FLOW</td>\n",
       "      <td>0.0</td>\n",
       "      <td>mL/s</td>\n",
       "    </tr>\n",
       "    <tr>\n",
       "      <th>2</th>\n",
       "      <td>09/04/2021</td>\n",
       "      <td>22:23:40.418</td>\n",
       "      <td>$FLOW</td>\n",
       "      <td>0.0</td>\n",
       "      <td>mL/s</td>\n",
       "    </tr>\n",
       "    <tr>\n",
       "      <th>3</th>\n",
       "      <td>09/04/2021</td>\n",
       "      <td>22:23:41.431</td>\n",
       "      <td>$FLOW</td>\n",
       "      <td>0.0</td>\n",
       "      <td>mL/s</td>\n",
       "    </tr>\n",
       "    <tr>\n",
       "      <th>4</th>\n",
       "      <td>09/04/2021</td>\n",
       "      <td>22:23:42.433</td>\n",
       "      <td>$FLOW</td>\n",
       "      <td>0.0</td>\n",
       "      <td>mL/s</td>\n",
       "    </tr>\n",
       "    <tr>\n",
       "      <th>...</th>\n",
       "      <td>...</td>\n",
       "      <td>...</td>\n",
       "      <td>...</td>\n",
       "      <td>...</td>\n",
       "      <td>...</td>\n",
       "    </tr>\n",
       "    <tr>\n",
       "      <th>389779</th>\n",
       "      <td>09/09/2021</td>\n",
       "      <td>12:01:10.306</td>\n",
       "      <td>$FLOW</td>\n",
       "      <td>0.0</td>\n",
       "      <td>mL/s</td>\n",
       "    </tr>\n",
       "    <tr>\n",
       "      <th>389780</th>\n",
       "      <td>09/09/2021</td>\n",
       "      <td>12:01:11.313</td>\n",
       "      <td>$FLOW</td>\n",
       "      <td>0.0</td>\n",
       "      <td>mL/s</td>\n",
       "    </tr>\n",
       "    <tr>\n",
       "      <th>389781</th>\n",
       "      <td>09/09/2021</td>\n",
       "      <td>12:01:12.318</td>\n",
       "      <td>$FLOW</td>\n",
       "      <td>0.0</td>\n",
       "      <td>mL/s</td>\n",
       "    </tr>\n",
       "    <tr>\n",
       "      <th>389782</th>\n",
       "      <td>09/09/2021</td>\n",
       "      <td>12:01:13.324</td>\n",
       "      <td>$FLOW</td>\n",
       "      <td>0.0</td>\n",
       "      <td>mL/s</td>\n",
       "    </tr>\n",
       "    <tr>\n",
       "      <th>389783</th>\n",
       "      <td>09/09/2021</td>\n",
       "      <td>12:01:14.330</td>\n",
       "      <td>$FLOW</td>\n",
       "      <td>0.0</td>\n",
       "      <td>mL/s</td>\n",
       "    </tr>\n",
       "  </tbody>\n",
       "</table>\n",
       "<p>389784 rows × 5 columns</p>\n",
       "</div>"
      ],
      "text/plain": [
       "              date          time flowname  flow units\n",
       "0       09/04/2021  22:23:38.407    $FLOW   0.0  mL/s\n",
       "1       09/04/2021  22:23:39.415    $FLOW   0.0  mL/s\n",
       "2       09/04/2021  22:23:40.418    $FLOW   0.0  mL/s\n",
       "3       09/04/2021  22:23:41.431    $FLOW   0.0  mL/s\n",
       "4       09/04/2021  22:23:42.433    $FLOW   0.0  mL/s\n",
       "...            ...           ...      ...   ...   ...\n",
       "389779  09/09/2021  12:01:10.306    $FLOW   0.0  mL/s\n",
       "389780  09/09/2021  12:01:11.313    $FLOW   0.0  mL/s\n",
       "389781  09/09/2021  12:01:12.318    $FLOW   0.0  mL/s\n",
       "389782  09/09/2021  12:01:13.324    $FLOW   0.0  mL/s\n",
       "389783  09/09/2021  12:01:14.330    $FLOW   0.0  mL/s\n",
       "\n",
       "[389784 rows x 5 columns]"
      ]
     },
     "execution_count": 128,
     "metadata": {},
     "output_type": "execute_result"
    }
   ],
   "source": [
    "flow_df"
   ]
  },
  {
   "cell_type": "code",
   "execution_count": 130,
   "id": "8697c1d7-9afc-4c14-895a-2e51b00890a6",
   "metadata": {},
   "outputs": [],
   "source": [
    "flow_df['datetime'] = pd.to_datetime(flow_df.date + ' ' + flow_df.time)"
   ]
  },
  {
   "cell_type": "code",
   "execution_count": 131,
   "id": "ca4c18ea-ee15-4e4b-9f94-1fc338183764",
   "metadata": {},
   "outputs": [
    {
     "data": {
      "text/html": [
       "<div>\n",
       "<style scoped>\n",
       "    .dataframe tbody tr th:only-of-type {\n",
       "        vertical-align: middle;\n",
       "    }\n",
       "\n",
       "    .dataframe tbody tr th {\n",
       "        vertical-align: top;\n",
       "    }\n",
       "\n",
       "    .dataframe thead th {\n",
       "        text-align: right;\n",
       "    }\n",
       "</style>\n",
       "<table border=\"1\" class=\"dataframe\">\n",
       "  <thead>\n",
       "    <tr style=\"text-align: right;\">\n",
       "      <th></th>\n",
       "      <th>date</th>\n",
       "      <th>time</th>\n",
       "      <th>flowname</th>\n",
       "      <th>flow</th>\n",
       "      <th>units</th>\n",
       "      <th>datetime</th>\n",
       "    </tr>\n",
       "  </thead>\n",
       "  <tbody>\n",
       "    <tr>\n",
       "      <th>0</th>\n",
       "      <td>09/04/2021</td>\n",
       "      <td>22:23:38.407</td>\n",
       "      <td>$FLOW</td>\n",
       "      <td>0.0</td>\n",
       "      <td>mL/s</td>\n",
       "      <td>2021-09-04 22:23:38.407</td>\n",
       "    </tr>\n",
       "    <tr>\n",
       "      <th>1</th>\n",
       "      <td>09/04/2021</td>\n",
       "      <td>22:23:39.415</td>\n",
       "      <td>$FLOW</td>\n",
       "      <td>0.0</td>\n",
       "      <td>mL/s</td>\n",
       "      <td>2021-09-04 22:23:39.415</td>\n",
       "    </tr>\n",
       "    <tr>\n",
       "      <th>2</th>\n",
       "      <td>09/04/2021</td>\n",
       "      <td>22:23:40.418</td>\n",
       "      <td>$FLOW</td>\n",
       "      <td>0.0</td>\n",
       "      <td>mL/s</td>\n",
       "      <td>2021-09-04 22:23:40.418</td>\n",
       "    </tr>\n",
       "    <tr>\n",
       "      <th>3</th>\n",
       "      <td>09/04/2021</td>\n",
       "      <td>22:23:41.431</td>\n",
       "      <td>$FLOW</td>\n",
       "      <td>0.0</td>\n",
       "      <td>mL/s</td>\n",
       "      <td>2021-09-04 22:23:41.431</td>\n",
       "    </tr>\n",
       "    <tr>\n",
       "      <th>4</th>\n",
       "      <td>09/04/2021</td>\n",
       "      <td>22:23:42.433</td>\n",
       "      <td>$FLOW</td>\n",
       "      <td>0.0</td>\n",
       "      <td>mL/s</td>\n",
       "      <td>2021-09-04 22:23:42.433</td>\n",
       "    </tr>\n",
       "  </tbody>\n",
       "</table>\n",
       "</div>"
      ],
      "text/plain": [
       "         date          time flowname  flow units                datetime\n",
       "0  09/04/2021  22:23:38.407    $FLOW   0.0  mL/s 2021-09-04 22:23:38.407\n",
       "1  09/04/2021  22:23:39.415    $FLOW   0.0  mL/s 2021-09-04 22:23:39.415\n",
       "2  09/04/2021  22:23:40.418    $FLOW   0.0  mL/s 2021-09-04 22:23:40.418\n",
       "3  09/04/2021  22:23:41.431    $FLOW   0.0  mL/s 2021-09-04 22:23:41.431\n",
       "4  09/04/2021  22:23:42.433    $FLOW   0.0  mL/s 2021-09-04 22:23:42.433"
      ]
     },
     "execution_count": 131,
     "metadata": {},
     "output_type": "execute_result"
    }
   ],
   "source": [
    "flow_df.head()"
   ]
  },
  {
   "cell_type": "code",
   "execution_count": null,
   "id": "da960364-6c72-4c01-911f-7caefc78e265",
   "metadata": {},
   "outputs": [],
   "source": [
    "2021-08-04 19:00:01 UTC\t1\t0110\t0.00\t43.48\t0.000\t2.469\n",
    "2021-09-04 22:23:38 UTC\t1\t0110\t0.00\t50.0\t0.00\t0.0"
   ]
  },
  {
   "cell_type": "code",
   "execution_count": 132,
   "id": "b76ef0e1-7b6d-436f-9a5b-427004d5903c",
   "metadata": {},
   "outputs": [
    {
     "data": {
      "text/plain": [
       "'22:23:48'"
      ]
     },
     "execution_count": 132,
     "metadata": {},
     "output_type": "execute_result"
    }
   ],
   "source": [
    "flow_df.iloc[10].datetime.strftime('%H:%M:%S')"
   ]
  },
  {
   "cell_type": "code",
   "execution_count": 144,
   "id": "728e1b70-58ac-4360-b867-0c35458904e1",
   "metadata": {},
   "outputs": [
    {
     "data": {
      "text/plain": [
       "'2021-09-04'"
      ]
     },
     "execution_count": 144,
     "metadata": {},
     "output_type": "execute_result"
    }
   ],
   "source": [
    "flow_df.iloc[10].datetime.strftime('%Y-%m-%d')"
   ]
  },
  {
   "cell_type": "code",
   "execution_count": 139,
   "id": "9dc96f4d-d938-4760-b650-901f5b474ed7",
   "metadata": {},
   "outputs": [
    {
     "data": {
      "text/plain": [
       "1.05"
      ]
     },
     "execution_count": 139,
     "metadata": {},
     "output_type": "execute_result"
    }
   ],
   "source": []
  },
  {
   "cell_type": "code",
   "execution_count": 151,
   "id": "fafa6e6b-7e44-49f0-9caa-1b3230e2bdc7",
   "metadata": {},
   "outputs": [],
   "source": [
    "f = open('Flow_20210904.txt', 'w')\n",
    "i=0\n",
    "for index, row in flow_df.iterrows():\n",
    "    if i > len(flow_df):\n",
    "        break\n",
    "    else:\n",
    "        f.write(row.datetime.strftime('%Y-%m-%d')+' '+row.datetime.strftime('%H:%M:%S')+' ')\n",
    "        f.write('UTC\\t1\\t')\n",
    "        f.write('0110\\t0.00\\t')\n",
    "        f.write(str(row['flow']*60/1000)+'\\t')\n",
    "        f.write('0.00\\t')\n",
    "        f.write('0.00\\n')\n",
    "        \n",
    "        i+=1\n",
    "f.close()"
   ]
  },
  {
   "cell_type": "code",
   "execution_count": null,
   "id": "a9d8620b-f01f-4f86-bb9b-3706fd322db6",
   "metadata": {},
   "outputs": [],
   "source": []
  }
 ],
 "metadata": {
  "kernelspec": {
   "display_name": "Python 3",
   "language": "python",
   "name": "python3"
  },
  "language_info": {
   "codemirror_mode": {
    "name": "ipython",
    "version": 3
   },
   "file_extension": ".py",
   "mimetype": "text/x-python",
   "name": "python",
   "nbconvert_exporter": "python",
   "pygments_lexer": "ipython3",
   "version": "3.8.10"
  }
 },
 "nbformat": 4,
 "nbformat_minor": 5
}
